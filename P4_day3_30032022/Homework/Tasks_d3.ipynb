{
 "cells": [
  {
   "cell_type": "code",
   "execution_count": 22,
   "metadata": {},
   "outputs": [],
   "source": [
    "import numpy as np"
   ]
  },
  {
   "cell_type": "markdown",
   "metadata": {},
   "source": [
    "__Задача 1__\n",
    "\n",
    "Напишите функцию, которая находит сумму четных элементов на главной \n",
    "диагонали квадратной матрицы (именно чётных элементов, а не элементов на чётных позициях!). \n",
    "Если чётных элементов нет, то вывести 0"
   ]
  },
  {
   "cell_type": "markdown",
   "metadata": {},
   "source": [
    "__Задача 2__\n",
    "\n",
    "Решить задачи при условии, что массив может быть любой размерности:\n",
    "\n",
    "2.1 Заменить максимальный элемент массива на 1000. (Повторяющихся максимальных элементов нет)    \n",
    "2.2 Заменить минимальный элемент массива на 0. (Повторяющиеся минимальные элементы есть, поэтому нужно заменить все)"
   ]
  },
  {
   "cell_type": "code",
   "execution_count": 23,
   "metadata": {},
   "outputs": [
    {
     "name": "stdout",
     "output_type": "stream",
     "text": [
      "[[2 9 5 3]\n",
      " [6 0 5 6]\n",
      " [0 9 6 6]\n",
      " [0 8 8 6]]\n"
     ]
    },
    {
     "data": {
      "text/plain": [
       "14"
      ]
     },
     "execution_count": 23,
     "metadata": {},
     "output_type": "execute_result"
    }
   ],
   "source": [
    "#__Задача 1__\n",
    "a = np.random.randint(10, size=(4,4))\n",
    "d = np.diagonal(a)\n",
    "print(a)\n",
    "sum_even = d[d % 2 == 0].sum()\n",
    "sum_even"
   ]
  },
  {
   "cell_type": "code",
   "execution_count": 25,
   "metadata": {},
   "outputs": [
    {
     "data": {
      "text/plain": [
       "array([[   2,    9,    5,    3],\n",
       "       [   6,    0,    5,    6],\n",
       "       [   0, 1000,    6,    6],\n",
       "       [   0,    8,    8,    6]])"
      ]
     },
     "execution_count": 25,
     "metadata": {},
     "output_type": "execute_result"
    }
   ],
   "source": [
    "#__Задача2.1__\n",
    "a[np.unravel_index(np.max(a), a.shape)] = 1000\n",
    "a"
   ]
  },
  {
   "cell_type": "code",
   "execution_count": 26,
   "metadata": {},
   "outputs": [
    {
     "data": {
      "text/plain": [
       "array([[   2,    9,    5,    3],\n",
       "       [   6,    0,    5,    6],\n",
       "       [   0, 1000,    6,    6],\n",
       "       [   0,    8,    8,    6]])"
      ]
     },
     "execution_count": 26,
     "metadata": {},
     "output_type": "execute_result"
    }
   ],
   "source": [
    "#__Задача2.2__\n",
    "a[a == np.min(a)] = 0\n",
    "a"
   ]
  },
  {
   "cell_type": "code",
   "execution_count": null,
   "metadata": {},
   "outputs": [],
   "source": []
  },
  {
   "cell_type": "code",
   "execution_count": null,
   "metadata": {},
   "outputs": [],
   "source": []
  },
  {
   "cell_type": "code",
   "execution_count": null,
   "metadata": {},
   "outputs": [],
   "source": []
  }
 ],
 "metadata": {
  "kernelspec": {
   "display_name": "Python 3 (ipykernel)",
   "language": "python",
   "name": "python3"
  },
  "language_info": {
   "codemirror_mode": {
    "name": "ipython",
    "version": 3
   },
   "file_extension": ".py",
   "mimetype": "text/x-python",
   "name": "python",
   "nbconvert_exporter": "python",
   "pygments_lexer": "ipython3",
   "version": "3.11.5"
  }
 },
 "nbformat": 4,
 "nbformat_minor": 4
}
