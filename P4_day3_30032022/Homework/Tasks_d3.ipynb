{
 "cells": [
  {
   "cell_type": "code",
   "execution_count": 1,
   "metadata": {},
   "outputs": [],
   "source": [
    "import numpy as np"
   ]
  },
  {
   "cell_type": "markdown",
   "metadata": {},
   "source": [
    "__Задача 1__\n",
    "\n",
    "Напишите функцию, которая находит сумму четных элементов на главной \n",
    "диагонали квадратной матрицы (именно чётных элементов, а не элементов на чётных позициях!). \n",
    "Если чётных элементов нет, то вывести 0"
   ]
  },
  {
   "cell_type": "markdown",
   "metadata": {},
   "source": [
    "__Задача 2__\n",
    "\n",
    "Решить задачи при условии, что массив может быть любой размерности:\n",
    "\n",
    "2.1 Заменить максимальный элемент массива на 1000. (Повторяющихся максимальных элементов нет)    \n",
    "2.2 Заменить минимальный элемент массива на 0. (Повторяющиеся минимальные элементы есть, поэтому нужно заменить все)"
   ]
  },
  {
   "cell_type": "code",
   "execution_count": null,
   "metadata": {},
   "outputs": [],
   "source": []
  }
 ],
 "metadata": {
  "kernelspec": {
   "display_name": "Python 3 (ipykernel)",
   "language": "python",
   "name": "python3"
  },
  "language_info": {
   "codemirror_mode": {
    "name": "ipython",
    "version": 3
   },
   "file_extension": ".py",
   "mimetype": "text/x-python",
   "name": "python",
   "nbconvert_exporter": "python",
   "pygments_lexer": "ipython3",
   "version": "3.9.7"
  }
 },
 "nbformat": 4,
 "nbformat_minor": 4
}
