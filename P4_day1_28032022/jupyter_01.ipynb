{
 "cells": [
  {
   "cell_type": "markdown",
   "metadata": {},
   "source": [
    "# Курс \"Программирование на языке Python. Уровень 4. Анализ и визуализация данных на языке Python. Библиотеки numpy, pandas, matplotlib\"\n",
    "\n",
    "Если вы читаете эти строки, значит вы успешно установили и запустили Jupyter Notebook.\n",
    "\n",
    "##  Особенности работы в Jupyter Notebook\n",
    "\n",
    "1. Код пишется в \"клетках\" ```In []:```, результат исполнения - в \"клетках\" ```Out []:```.\n",
    "2. Stack Trace тоже отображается в клетках ```Out []:```.\n",
    "2. Цифра в квадрантных скобках - порядковый номер исполнения данного фрагмента кода.\n",
    "2. Запуск кода: ```Shift - Enter``` - с переходом в следующую \"клетку\", ```Ctrl - Enter``` - без оного.\n",
    "3. Все переменные, объявленные в \"клетке\" становятся видимыми внутри всей тетрадки.\n",
    "4. Все переменные, объявленные в тетрадке, видимы только внутри нее и не влияют на другие открытые тетрадки.\n",
    "\n",
    "### Если \"Что-то пошло не так...\"\n",
    "\n",
    "1. ```Ctrl - C``` прервет выполнение кода исключением ```KeyboardInterrupt```\n",
    "1. Если это не помогает - надо перезапустить ядро (меню Kernel / Restart), и потом последовательно выполнить все предыдущие \"клетки\".\n",
    "2. Если и это не помогает - снимите процесс python.\n",
    "\n",
    "\n",
    "### Синтаксис Python в Jupyter Notebook\n",
    "\n",
    "1. Есть подсветка синтаксиса.\n",
    "2. Отступы проставляются автоматически, можно использовать tab.\n",
    "3. По нажатию tab - автозаполнение.\n",
    "4. Символ \"?\", указанный до или после переменной, открывает окно с информацией о ней (будь это просто переменная или функция).\n",
    "5. Закомментировать строку можно сочетанием клавиш ```Ctrl - /```.\n"
   ]
  },
  {
   "cell_type": "code",
   "execution_count": 1,
   "metadata": {},
   "outputs": [
    {
     "data": {
      "text/plain": [
       "[1, 2, 3]"
      ]
     },
     "execution_count": 1,
     "metadata": {},
     "output_type": "execute_result"
    }
   ],
   "source": [
    "b = [1, 2, 3]\n",
    "b"
   ]
  },
  {
   "cell_type": "code",
   "execution_count": 4,
   "metadata": {},
   "outputs": [
    {
     "name": "stdout",
     "output_type": "stream",
     "text": [
      "python\n"
     ]
    },
    {
     "data": {
      "text/plain": [
       "'Hello'"
      ]
     },
     "execution_count": 4,
     "metadata": {},
     "output_type": "execute_result"
    }
   ],
   "source": [
    "s1 = 'python'\n",
    "s = 'Hello'\n",
    "print(s1)\n",
    "s"
   ]
  },
  {
   "cell_type": "code",
   "execution_count": 5,
   "metadata": {},
   "outputs": [
    {
     "name": "stdout",
     "output_type": "stream",
     "text": [
      "Hello\n"
     ]
    },
    {
     "data": {
      "text/plain": [
       "[1, 2, 3]"
      ]
     },
     "execution_count": 5,
     "metadata": {},
     "output_type": "execute_result"
    }
   ],
   "source": [
    "print(s); b"
   ]
  },
  {
   "cell_type": "code",
   "execution_count": 6,
   "metadata": {},
   "outputs": [
    {
     "name": "stdout",
     "output_type": "stream",
     "text": [
      "[1, 2, 3]\n"
     ]
    }
   ],
   "source": [
    "print(b)"
   ]
  },
  {
   "cell_type": "code",
   "execution_count": 7,
   "metadata": {},
   "outputs": [],
   "source": [
    "?b"
   ]
  },
  {
   "cell_type": "code",
   "execution_count": 8,
   "metadata": {},
   "outputs": [
    {
     "data": {
      "text/plain": [
       "'11'"
      ]
     },
     "execution_count": 8,
     "metadata": {},
     "output_type": "execute_result"
    }
   ],
   "source": [
    "'1' + str(1)"
   ]
  },
  {
   "cell_type": "code",
   "execution_count": 9,
   "metadata": {},
   "outputs": [],
   "source": [
    "# Подсказка типов\n",
    "def mul_numbers(a: float, b: float) -> float:\n",
    "    \"\"\" Функция умножает два числа \"\"\"\n",
    "    return a * b"
   ]
  },
  {
   "cell_type": "code",
   "execution_count": 11,
   "metadata": {},
   "outputs": [],
   "source": [
    "# два знака вопроса откроют окно с исходным кодом\n",
    "mul_numbers??"
   ]
  },
  {
   "cell_type": "code",
   "execution_count": 12,
   "metadata": {},
   "outputs": [],
   "source": [
    "import random as rnd\n",
    "rnd.randrange??"
   ]
  },
  {
   "cell_type": "code",
   "execution_count": 17,
   "metadata": {},
   "outputs": [
    {
     "data": {
      "text/plain": [
       "'HELLO'"
      ]
     },
     "execution_count": 17,
     "metadata": {},
     "output_type": "execute_result"
    }
   ],
   "source": [
    "'hello'.upper()"
   ]
  },
  {
   "cell_type": "code",
   "execution_count": 18,
   "metadata": {},
   "outputs": [
    {
     "data": {
      "application/json": {
       "cell": {
        "!": "OSMagics",
        "HTML": "Other",
        "SVG": "Other",
        "bash": "Other",
        "capture": "ExecutionMagics",
        "cmd": "Other",
        "debug": "ExecutionMagics",
        "file": "Other",
        "html": "DisplayMagics",
        "javascript": "DisplayMagics",
        "js": "DisplayMagics",
        "latex": "DisplayMagics",
        "markdown": "DisplayMagics",
        "perl": "Other",
        "prun": "ExecutionMagics",
        "pypy": "Other",
        "python": "Other",
        "python2": "Other",
        "python3": "Other",
        "ruby": "Other",
        "script": "ScriptMagics",
        "sh": "Other",
        "svg": "DisplayMagics",
        "sx": "OSMagics",
        "system": "OSMagics",
        "time": "ExecutionMagics",
        "timeit": "ExecutionMagics",
        "writefile": "OSMagics"
       },
       "line": {
        "alias": "OSMagics",
        "alias_magic": "BasicMagics",
        "autoawait": "AsyncMagics",
        "autocall": "AutoMagics",
        "automagic": "AutoMagics",
        "autosave": "KernelMagics",
        "bookmark": "OSMagics",
        "cd": "OSMagics",
        "clear": "KernelMagics",
        "cls": "KernelMagics",
        "colors": "BasicMagics",
        "conda": "PackagingMagics",
        "config": "ConfigMagics",
        "connect_info": "KernelMagics",
        "copy": "Other",
        "ddir": "Other",
        "debug": "ExecutionMagics",
        "dhist": "OSMagics",
        "dirs": "OSMagics",
        "doctest_mode": "BasicMagics",
        "echo": "Other",
        "ed": "Other",
        "edit": "KernelMagics",
        "env": "OSMagics",
        "gui": "BasicMagics",
        "hist": "Other",
        "history": "HistoryMagics",
        "killbgscripts": "ScriptMagics",
        "ldir": "Other",
        "less": "KernelMagics",
        "load": "CodeMagics",
        "load_ext": "ExtensionMagics",
        "loadpy": "CodeMagics",
        "logoff": "LoggingMagics",
        "logon": "LoggingMagics",
        "logstart": "LoggingMagics",
        "logstate": "LoggingMagics",
        "logstop": "LoggingMagics",
        "ls": "Other",
        "lsmagic": "BasicMagics",
        "macro": "ExecutionMagics",
        "magic": "BasicMagics",
        "matplotlib": "PylabMagics",
        "mkdir": "Other",
        "more": "KernelMagics",
        "notebook": "BasicMagics",
        "page": "BasicMagics",
        "pastebin": "CodeMagics",
        "pdb": "ExecutionMagics",
        "pdef": "NamespaceMagics",
        "pdoc": "NamespaceMagics",
        "pfile": "NamespaceMagics",
        "pinfo": "NamespaceMagics",
        "pinfo2": "NamespaceMagics",
        "pip": "PackagingMagics",
        "popd": "OSMagics",
        "pprint": "BasicMagics",
        "precision": "BasicMagics",
        "prun": "ExecutionMagics",
        "psearch": "NamespaceMagics",
        "psource": "NamespaceMagics",
        "pushd": "OSMagics",
        "pwd": "OSMagics",
        "pycat": "OSMagics",
        "pylab": "PylabMagics",
        "qtconsole": "KernelMagics",
        "quickref": "BasicMagics",
        "recall": "HistoryMagics",
        "rehashx": "OSMagics",
        "reload_ext": "ExtensionMagics",
        "ren": "Other",
        "rep": "Other",
        "rerun": "HistoryMagics",
        "reset": "NamespaceMagics",
        "reset_selective": "NamespaceMagics",
        "rmdir": "Other",
        "run": "ExecutionMagics",
        "save": "CodeMagics",
        "sc": "OSMagics",
        "set_env": "OSMagics",
        "store": "StoreMagics",
        "sx": "OSMagics",
        "system": "OSMagics",
        "tb": "ExecutionMagics",
        "time": "ExecutionMagics",
        "timeit": "ExecutionMagics",
        "unalias": "OSMagics",
        "unload_ext": "ExtensionMagics",
        "who": "NamespaceMagics",
        "who_ls": "NamespaceMagics",
        "whos": "NamespaceMagics",
        "xdel": "NamespaceMagics",
        "xmode": "BasicMagics"
       }
      },
      "text/plain": [
       "Available line magics:\n",
       "%alias  %alias_magic  %autoawait  %autocall  %automagic  %autosave  %bookmark  %cd  %clear  %cls  %colors  %conda  %config  %connect_info  %copy  %ddir  %debug  %dhist  %dirs  %doctest_mode  %echo  %ed  %edit  %env  %gui  %hist  %history  %killbgscripts  %ldir  %less  %load  %load_ext  %loadpy  %logoff  %logon  %logstart  %logstate  %logstop  %ls  %lsmagic  %macro  %magic  %matplotlib  %mkdir  %more  %notebook  %page  %pastebin  %pdb  %pdef  %pdoc  %pfile  %pinfo  %pinfo2  %pip  %popd  %pprint  %precision  %prun  %psearch  %psource  %pushd  %pwd  %pycat  %pylab  %qtconsole  %quickref  %recall  %rehashx  %reload_ext  %ren  %rep  %rerun  %reset  %reset_selective  %rmdir  %run  %save  %sc  %set_env  %store  %sx  %system  %tb  %time  %timeit  %unalias  %unload_ext  %who  %who_ls  %whos  %xdel  %xmode\n",
       "\n",
       "Available cell magics:\n",
       "%%!  %%HTML  %%SVG  %%bash  %%capture  %%cmd  %%debug  %%file  %%html  %%javascript  %%js  %%latex  %%markdown  %%perl  %%prun  %%pypy  %%python  %%python2  %%python3  %%ruby  %%script  %%sh  %%svg  %%sx  %%system  %%time  %%timeit  %%writefile\n",
       "\n",
       "Automagic is ON, % prefix IS NOT needed for line magics."
      ]
     },
     "execution_count": 18,
     "metadata": {},
     "output_type": "execute_result"
    }
   ],
   "source": [
    "lsmagic"
   ]
  },
  {
   "cell_type": "markdown",
   "metadata": {},
   "source": [
    "### \"Волшебные команды\"\n",
    "\n",
    "#### Профайлинг и отладка\n",
    "\n",
    "- ```%time``` - показывает время выполнения строки кода\n",
    "- ```%%time``` - показывает время выполнения ячейки кода"
   ]
  },
  {
   "cell_type": "code",
   "execution_count": 22,
   "metadata": {},
   "outputs": [
    {
     "name": "stdout",
     "output_type": "stream",
     "text": [
      "(2, 'l')\n",
      "(3, 'l')\n",
      "(4, 'o')\n"
     ]
    }
   ],
   "source": [
    "enum = enumerate('hello')\n",
    "next(enum)  # (0, 'h')\n",
    "next(enum)  # (1, 'e')\n",
    "for item in enum:\n",
    "    print(item)"
   ]
  },
  {
   "cell_type": "code",
   "execution_count": 20,
   "metadata": {},
   "outputs": [
    {
     "data": {
      "text/plain": [
       "'h'"
      ]
     },
     "execution_count": 20,
     "metadata": {},
     "output_type": "execute_result"
    }
   ],
   "source": [
    "a, b, c, d, e ='hello'   # распаковка\n",
    "a"
   ]
  },
  {
   "cell_type": "code",
   "execution_count": 25,
   "metadata": {},
   "outputs": [
    {
     "data": {
      "text/plain": [
       "('44444', '55555')"
      ]
     },
     "execution_count": 25,
     "metadata": {},
     "output_type": "execute_result"
    }
   ],
   "source": [
    "res1, res2 = map(lambda x: x * 5, '4 5'.split())\n",
    "res1, res2"
   ]
  },
  {
   "cell_type": "code",
   "execution_count": 26,
   "metadata": {},
   "outputs": [],
   "source": [
    "def sum_exps(number):\n",
    "    return sum(x ** x for x in range(number))\n",
    "\n",
    "def sum_exps_naive(number):\n",
    "    summ = 0\n",
    "    for x in range(number):\n",
    "        poww = x\n",
    "        for y in range(x):\n",
    "            poww *= x\n",
    "        summ += poww\n",
    "    return summ\n"
   ]
  },
  {
   "cell_type": "code",
   "execution_count": 27,
   "metadata": {},
   "outputs": [
    {
     "name": "stdout",
     "output_type": "stream",
     "text": [
      "a\t b\t c\t d\t e\t enum\t item\t mul_numbers\t res1\t \n",
      "res2\t rnd\t s\t s1\t sum_exps\t sum_exps_naive\t \n"
     ]
    }
   ],
   "source": [
    "who"
   ]
  },
  {
   "cell_type": "code",
   "execution_count": 28,
   "metadata": {},
   "outputs": [
    {
     "name": "stdout",
     "output_type": "stream",
     "text": [
      "Variable         Type         Data/Info\n",
      "---------------------------------------\n",
      "a                str          h\n",
      "b                str          e\n",
      "c                str          l\n",
      "d                str          l\n",
      "e                str          o\n",
      "enum             enumerate    <enumerate object at 0x00000161F58EB5C0>\n",
      "item             tuple        n=2\n",
      "mul_numbers      function     <function mul_numbers at 0x00000161F57AFF70>\n",
      "res1             str          44444\n",
      "res2             str          55555\n",
      "rnd              module       <module 'random' from 'C:<...>aconda3\\\\lib\\\\random.py'>\n",
      "s                str          Hello\n",
      "s1               str          python\n",
      "sum_exps         function     <function sum_exps at 0x00000161F58E6F70>\n",
      "sum_exps_naive   function     <function sum_exps_naive at 0x00000161F58E6E50>\n"
     ]
    }
   ],
   "source": [
    "whos"
   ]
  },
  {
   "cell_type": "code",
   "execution_count": 29,
   "metadata": {},
   "outputs": [
    {
     "name": "stdout",
     "output_type": "stream",
     "text": [
      "Hello World\n",
      "Wall time: 1e+03 µs\n"
     ]
    }
   ],
   "source": [
    "%time print(\"Hello World\")  # Здесь только одна строка\n",
    "a = sum_exps_naive( 1000 )\n",
    "b = sum_exps( 1000 )"
   ]
  },
  {
   "cell_type": "code",
   "execution_count": 32,
   "metadata": {},
   "outputs": [
    {
     "name": "stdout",
     "output_type": "stream",
     "text": [
      "Hello World\n",
      "Wall time: 185 ms\n"
     ]
    }
   ],
   "source": [
    "%%time  \n",
    "print(\"Hello World\")\n",
    "a = sum_exps_naive( 1000 )\n",
    "b = sum_exps( 1000 )"
   ]
  },
  {
   "cell_type": "code",
   "execution_count": 33,
   "metadata": {},
   "outputs": [
    {
     "name": "stdout",
     "output_type": "stream",
     "text": [
      "Wall time: 184 ms\n",
      "Wall time: 13 ms\n"
     ]
    }
   ],
   "source": [
    "%time a = sum_exps_naive(1000)\n",
    "%time b = sum_exps(1000)"
   ]
  },
  {
   "cell_type": "markdown",
   "metadata": {},
   "source": [
    "- ```%timeit``` - выполнить код несколько раз и показать среднее время выполнения кода. Запуск с ```%%``` приведет к \"прокручиванию\" кода всей клетки.\n",
    "\n",
    "Можно задать количество итерациий, запустив эту команду с параметром -nN, где N - количество циклов."
   ]
  },
  {
   "cell_type": "code",
   "execution_count": 34,
   "metadata": {},
   "outputs": [
    {
     "name": "stdout",
     "output_type": "stream",
     "text": [
      "12 ms ± 680 µs per loop (mean ± std. dev. of 7 runs, 100 loops each)\n"
     ]
    }
   ],
   "source": [
    "%timeit sum_exps(1000)"
   ]
  },
  {
   "cell_type": "code",
   "execution_count": 36,
   "metadata": {},
   "outputs": [
    {
     "name": "stdout",
     "output_type": "stream",
     "text": [
      "179 ms ± 27.4 ms per loop (mean ± std. dev. of 7 runs, 5 loops each)\n"
     ]
    }
   ],
   "source": [
    "%timeit -n5 -r7 sum_exps_naive( 1000 )"
   ]
  },
  {
   "cell_type": "markdown",
   "metadata": {},
   "source": [
    "- ```%prun``` - построчный профайлер"
   ]
  },
  {
   "cell_type": "code",
   "execution_count": 37,
   "metadata": {},
   "outputs": [
    {
     "name": "stdout",
     "output_type": "stream",
     "text": [
      " "
     ]
    }
   ],
   "source": [
    "%prun sum_exps(1000)"
   ]
  },
  {
   "cell_type": "code",
   "execution_count": 38,
   "metadata": {},
   "outputs": [
    {
     "name": "stdout",
     "output_type": "stream",
     "text": [
      "Writing file.py\n"
     ]
    }
   ],
   "source": [
    "%%writefile file.py\n",
    "line = \"hello Jupyter\"\n",
    "print(line[::-1])\n"
   ]
  },
  {
   "cell_type": "code",
   "execution_count": 40,
   "metadata": {},
   "outputs": [
    {
     "name": "stdout",
     "output_type": "stream",
     "text": [
      "retypuJ olleh\n"
     ]
    }
   ],
   "source": [
    "# %load file.py\n",
    "line = \"hello Jupyter\"\n",
    "print(line[::-1])\n"
   ]
  },
  {
   "cell_type": "code",
   "execution_count": 43,
   "metadata": {},
   "outputs": [
    {
     "data": {
      "text/plain": [
       "True"
      ]
     },
     "execution_count": 43,
     "metadata": {},
     "output_type": "execute_result"
    }
   ],
   "source": [
    "# Две ссылки на один и тот же объект\n",
    "s = 'hello'\n",
    "s1 = s[:]\n",
    "id(s) == id(s1)  # s is s1"
   ]
  },
  {
   "cell_type": "code",
   "execution_count": 41,
   "metadata": {},
   "outputs": [
    {
     "data": {
      "text/plain": [
       "False"
      ]
     },
     "execution_count": 41,
     "metadata": {},
     "output_type": "execute_result"
    }
   ],
   "source": [
    "lst1 = [3, 8, 7]\n",
    "lst2 = lst1[:]\n",
    "lst1 is lst2"
   ]
  },
  {
   "cell_type": "code",
   "execution_count": 42,
   "metadata": {},
   "outputs": [
    {
     "data": {
      "text/plain": [
       "True"
      ]
     },
     "execution_count": 42,
     "metadata": {},
     "output_type": "execute_result"
    }
   ],
   "source": [
    "# Две ссылки на один и тот же объект\n",
    "tup1 = 45, 12\n",
    "tup2 = tup1[:]\n",
    "id(tup1) == id(tup2)"
   ]
  },
  {
   "cell_type": "code",
   "execution_count": 44,
   "metadata": {},
   "outputs": [
    {
     "data": {
      "text/plain": [
       "(45, 12, 45, 12)"
      ]
     },
     "execution_count": 44,
     "metadata": {},
     "output_type": "execute_result"
    }
   ],
   "source": [
    "tup1 + tup2"
   ]
  },
  {
   "cell_type": "code",
   "execution_count": 45,
   "metadata": {},
   "outputs": [
    {
     "data": {
      "text/plain": [
       "'lo'"
      ]
     },
     "execution_count": 45,
     "metadata": {},
     "output_type": "execute_result"
    }
   ],
   "source": [
    "'hello'[3:100]"
   ]
  },
  {
   "cell_type": "code",
   "execution_count": 46,
   "metadata": {},
   "outputs": [
    {
     "data": {
      "text/plain": [
       "([34, 45], [56, 12])"
      ]
     },
     "execution_count": 46,
     "metadata": {},
     "output_type": "execute_result"
    }
   ],
   "source": [
    "a = ([34, 45], [56, 12])\n",
    "a"
   ]
  },
  {
   "cell_type": "code",
   "execution_count": 47,
   "metadata": {},
   "outputs": [
    {
     "data": {
      "text/plain": [
       "([34, 45], [56, 12, 100])"
      ]
     },
     "execution_count": 47,
     "metadata": {},
     "output_type": "execute_result"
    }
   ],
   "source": [
    "a[1].append(100)\n",
    "a"
   ]
  },
  {
   "cell_type": "markdown",
   "metadata": {},
   "source": [
    "---"
   ]
  },
  {
   "cell_type": "code",
   "execution_count": 48,
   "metadata": {},
   "outputs": [
    {
     "name": "stdout",
     "output_type": "stream",
     "text": [
      "The following commands were written to file `result.py`:\n",
      "def mul_numbers(a: float, b: float) -> float:\n",
      "    \"\"\" Функция умножает два числа \"\"\"\n",
      "    return a * b\n",
      "get_ipython().run_line_magic('pinfo', 'mul_numbers')\n",
      "# два знака вопроса откроют окно с исходным кодом\n",
      "get_ipython().run_line_magic('pinfo2', 'mul_numbers')\n",
      "import random as rnd\n",
      "get_ipython().run_line_magic('pinfo2', 'rnd.randrange')\n",
      "mul_numbers(2.0, 3.0)\n",
      "mul_numbers(2, 3)\n",
      "mul_numbers('hello', 3)\n",
      "mul_numbers('hello', 'h')\n",
      "'hello'.upper()\n"
     ]
    }
   ],
   "source": [
    "save result.py 9-17"
   ]
  },
  {
   "cell_type": "code",
   "execution_count": 53,
   "metadata": {},
   "outputs": [
    {
     "name": "stdout",
     "output_type": "stream",
     "text": [
      "line = \"hello Jupyter\"\n",
      "print(line[::-1])\n"
     ]
    }
   ],
   "source": [
    "!type file.py"
   ]
  },
  {
   "cell_type": "code",
   "execution_count": 54,
   "metadata": {},
   "outputs": [],
   "source": [
    "!python file.py > out1.txt"
   ]
  },
  {
   "cell_type": "code",
   "execution_count": null,
   "metadata": {},
   "outputs": [],
   "source": [
    "# %load out1.txt\n",
    "retypuJ olleh\n"
   ]
  },
  {
   "cell_type": "code",
   "execution_count": 56,
   "metadata": {},
   "outputs": [
    {
     "name": "stdout",
     "output_type": "stream",
     "text": [
      "retypuJ olleh\n",
      "Hello jupyter\n"
     ]
    }
   ],
   "source": [
    "line = \"hello Jupyter\"\n",
    "print(line[::-1])\n",
    "print(line.capitalize())"
   ]
  },
  {
   "cell_type": "code",
   "execution_count": 57,
   "metadata": {},
   "outputs": [
    {
     "name": "stdout",
     "output_type": "stream",
     "text": [
      "File `file.py` exists. Overwrite (y/[N])?  y\n",
      "The following commands were written to file `file.py`:\n",
      "line = \"hello Jupyter\"\n",
      "print(line[::-1])\n",
      "print(line.capitalize())\n"
     ]
    }
   ],
   "source": [
    "%save file.py 56"
   ]
  },
  {
   "cell_type": "code",
   "execution_count": 58,
   "metadata": {},
   "outputs": [
    {
     "data": {
      "text/html": [
       "<img src=\"https://python.org/images/python-logo.gif\"/>"
      ],
      "text/plain": [
       "<IPython.core.display.Image object>"
      ]
     },
     "execution_count": 58,
     "metadata": {},
     "output_type": "execute_result"
    }
   ],
   "source": [
    "from IPython.display import display, Image, HTML, Math\n",
    "Image(url='https://python.org/images/python-logo.gif')"
   ]
  },
  {
   "cell_type": "code",
   "execution_count": 59,
   "metadata": {},
   "outputs": [
    {
     "data": {
      "application/vnd.jupyter.widget-view+json": {
       "model_id": "11b4d7fdfbe643aebb68b1f14748b1c2",
       "version_major": 2,
       "version_minor": 0
      },
      "text/plain": [
       "interactive(children=(FloatSlider(value=1.0, description='mu', max=20.0, min=1.0, step=1.0), Output()), _dom_c…"
      ]
     },
     "metadata": {},
     "output_type": "display_data"
    }
   ],
   "source": [
    "import matplotlib.pyplot as plt\n",
    "import numpy as np\n",
    "from scipy import stats\n",
    "\n",
    "def f(mu):\n",
    "    X = stats.norm(loc=mu, scale=np.sqrt(mu))\n",
    "    N = stats.poisson(mu)\n",
    "    x = np.linspace(0, X.ppf(0.999))\n",
    "    n = np.arange(0, x[-1])\n",
    "\n",
    "    fig, ax = plt.subplots()\n",
    "    ax.plot(x, X.pdf(x), color='black', lw=2, label=f\"Normal($\\mu={mu}, \\sigma^2={mu})$\")\n",
    "    ax.bar(n, N.pmf(n), align='edge', label=r\"Poisson($\\lambda=%2d$)\" % mu)\n",
    "    ax.set_ylim(0, X.pdf(x).max() * 1.25)\n",
    "    ax.legend(loc=2, ncol=2)\n",
    "    plt.close(fig)\n",
    "    return fig\n",
    "\n",
    "    \n",
    "from ipywidgets import interact\n",
    "import ipywidgets as widgets\n",
    "\n",
    "interact(f, mu=widgets.FloatSlider(min=1.0, max=20.0, step=1.0));"
   ]
  },
  {
   "cell_type": "markdown",
   "metadata": {},
   "source": [
    "### Встроенный debugger\n",
    "\n",
    "- ```%pdb``` - запускает дебаггер сразу после того, как появилось исключение\n",
    "- появляется приглашение ```ipdb>```, в котором можно вводить команды\n",
    "- чтобы посмотреть значение той или иной переменной, надо просто набрать ее имя\n",
    "- чтобы изменить значение - достаточно использовать операцию присваивания\n",
    "- чтобы выйти - нужно набрать команду ```exit```\n",
    "- чтобы посмотреть все команды дебаггера нужно набрать команду ```help```"
   ]
  },
  {
   "cell_type": "code",
   "execution_count": 60,
   "metadata": {},
   "outputs": [],
   "source": [
    "def a_divider(dividend, divisors):\n",
    "    l = []\n",
    "    for divisor in divisors:\n",
    "        l.append(dividend // divisor)\n",
    "    return l    "
   ]
  },
  {
   "cell_type": "code",
   "execution_count": 61,
   "metadata": {},
   "outputs": [
    {
     "name": "stdout",
     "output_type": "stream",
     "text": [
      "[500, 250, 166, 125, 100]\n"
     ]
    }
   ],
   "source": [
    "print(a_divider(500, [1,2,3,4,5]))"
   ]
  },
  {
   "cell_type": "code",
   "execution_count": 62,
   "metadata": {},
   "outputs": [
    {
     "name": "stdout",
     "output_type": "stream",
     "text": [
      "Automatic pdb calling has been turned ON\n"
     ]
    },
    {
     "ename": "ZeroDivisionError",
     "evalue": "integer division or modulo by zero",
     "output_type": "error",
     "traceback": [
      "\u001b[1;31m---------------------------------------------------------------------------\u001b[0m",
      "\u001b[1;31mZeroDivisionError\u001b[0m                         Traceback (most recent call last)",
      "\u001b[1;32m~\\AppData\\Local\\Temp/ipykernel_8048/2882586670.py\u001b[0m in \u001b[0;36m<module>\u001b[1;34m\u001b[0m\n\u001b[0;32m      1\u001b[0m \u001b[0mget_ipython\u001b[0m\u001b[1;33m(\u001b[0m\u001b[1;33m)\u001b[0m\u001b[1;33m.\u001b[0m\u001b[0mrun_line_magic\u001b[0m\u001b[1;33m(\u001b[0m\u001b[1;34m'pdb'\u001b[0m\u001b[1;33m,\u001b[0m \u001b[1;34m''\u001b[0m\u001b[1;33m)\u001b[0m\u001b[1;33m\u001b[0m\u001b[1;33m\u001b[0m\u001b[0m\n\u001b[1;32m----> 2\u001b[1;33m \u001b[0mprint\u001b[0m\u001b[1;33m(\u001b[0m\u001b[0ma_divider\u001b[0m\u001b[1;33m(\u001b[0m\u001b[1;36m500\u001b[0m\u001b[1;33m,\u001b[0m \u001b[1;33m[\u001b[0m\u001b[1;36m1\u001b[0m\u001b[1;33m,\u001b[0m\u001b[1;36m2\u001b[0m\u001b[1;33m,\u001b[0m\u001b[1;36m3\u001b[0m\u001b[1;33m,\u001b[0m \u001b[1;36m0\u001b[0m \u001b[1;33m,\u001b[0m\u001b[1;36m4\u001b[0m\u001b[1;33m,\u001b[0m\u001b[1;36m5\u001b[0m\u001b[1;33m]\u001b[0m\u001b[1;33m)\u001b[0m\u001b[1;33m)\u001b[0m\u001b[1;33m\u001b[0m\u001b[1;33m\u001b[0m\u001b[0m\n\u001b[0m",
      "\u001b[1;32m~\\AppData\\Local\\Temp/ipykernel_8048/2014433510.py\u001b[0m in \u001b[0;36ma_divider\u001b[1;34m(dividend, divisors)\u001b[0m\n\u001b[0;32m      2\u001b[0m     \u001b[0ml\u001b[0m \u001b[1;33m=\u001b[0m \u001b[1;33m[\u001b[0m\u001b[1;33m]\u001b[0m\u001b[1;33m\u001b[0m\u001b[1;33m\u001b[0m\u001b[0m\n\u001b[0;32m      3\u001b[0m     \u001b[1;32mfor\u001b[0m \u001b[0mdivisor\u001b[0m \u001b[1;32min\u001b[0m \u001b[0mdivisors\u001b[0m\u001b[1;33m:\u001b[0m\u001b[1;33m\u001b[0m\u001b[1;33m\u001b[0m\u001b[0m\n\u001b[1;32m----> 4\u001b[1;33m         \u001b[0ml\u001b[0m\u001b[1;33m.\u001b[0m\u001b[0mappend\u001b[0m\u001b[1;33m(\u001b[0m\u001b[0mdividend\u001b[0m \u001b[1;33m//\u001b[0m \u001b[0mdivisor\u001b[0m\u001b[1;33m)\u001b[0m\u001b[1;33m\u001b[0m\u001b[1;33m\u001b[0m\u001b[0m\n\u001b[0m\u001b[0;32m      5\u001b[0m     \u001b[1;32mreturn\u001b[0m \u001b[0ml\u001b[0m\u001b[1;33m\u001b[0m\u001b[1;33m\u001b[0m\u001b[0m\n",
      "\u001b[1;31mZeroDivisionError\u001b[0m: integer division or modulo by zero"
     ]
    },
    {
     "name": "stdout",
     "output_type": "stream",
     "text": [
      "> \u001b[1;32mc:\\users\\admin\\appdata\\local\\temp\\ipykernel_8048\\2014433510.py\u001b[0m(4)\u001b[0;36ma_divider\u001b[1;34m()\u001b[0m\n",
      "\n",
      "ipdb> help\n",
      "\n",
      "Documented commands (type help <topic>):\n",
      "========================================\n",
      "EOF    commands   enable    ll        pp       s                until \n",
      "a      condition  exit      longlist  psource  skip_hidden      up    \n",
      "alias  cont       h         n         q        skip_predicates  w     \n",
      "args   context    help      next      quit     source           whatis\n",
      "b      continue   ignore    p         r        step             where \n",
      "break  d          interact  pdef      restart  tbreak         \n",
      "bt     debug      j         pdoc      return   u              \n",
      "c      disable    jump      pfile     retval   unalias        \n",
      "cl     display    l         pinfo     run      undisplay      \n",
      "clear  down       list      pinfo2    rv       unt            \n",
      "\n",
      "Miscellaneous help topics:\n",
      "==========================\n",
      "exec  pdb\n",
      "\n",
      "ipdb> dispaly divisor\n",
      "*** SyntaxError: invalid syntax\n",
      "ipdb> display divisor\n",
      "display divisor: 0\n",
      "ipdb> divisor = 1\n",
      "ipdb> c\n"
     ]
    }
   ],
   "source": [
    "%pdb \n",
    "print(a_divider(500, [1,2,3, 0 ,4,5]))"
   ]
  },
  {
   "cell_type": "markdown",
   "metadata": {},
   "source": [
    "### Другие полезные \"волшебные\" функции\n",
    "\n",
    "Справка по всем \"магическим\" функциям - ```%magic```"
   ]
  },
  {
   "cell_type": "code",
   "execution_count": 63,
   "metadata": {},
   "outputs": [
    {
     "name": "stdout",
     "output_type": "stream",
     "text": [
      "HTML\t Image\t Math\t a\t a_divider\t b\t c\t d\t display\t \n",
      "e\t enum\t f\t interact\t item\t line\t lst1\t lst2\t mul_numbers\t \n",
      "np\t plt\t res1\t res2\t rnd\t s\t s1\t stats\t sum_exps\t \n",
      "sum_exps_naive\t tup1\t tup2\t widgets\t \n"
     ]
    }
   ],
   "source": [
    "# список объявленных переменных\n",
    "%who"
   ]
  },
  {
   "cell_type": "code",
   "execution_count": 64,
   "metadata": {
    "collapsed": true
   },
   "outputs": [
    {
     "name": "stdout",
     "output_type": "stream",
     "text": [
      "b = [1, 2, 3]\n",
      "b\n",
      "s1 = 'python'\n",
      "s = 'Hello'\n",
      "print(s1)\n",
      "s\n",
      "s1 = 'python'\n",
      "s = 'Hello'\n",
      "s1\n",
      "s\n",
      "s1 = 'python'\n",
      "s = 'Hello'\n",
      "print(s1)\n",
      "s\n",
      "print(s); b\n",
      "print(b)\n",
      "?b\n",
      "'1' + str(1)\n",
      "def mul_numbers(a: float, b: float) -> float:\n",
      "    \"\"\" Функция умножает два числа \"\"\"\n",
      "    return a * b\n",
      "mul_numbers?\n",
      "# два знака вопроса откроют окно с исходным кодом\n",
      "mul_numbers??\n",
      "import random as rnd\n",
      "rnd.randrange??\n",
      "mul_numbers(2.0, 3.0)\n",
      "mul_numbers(2, 3)\n",
      "mul_numbers('hello', 3)\n",
      "mul_numbers('hello', 'h')\n",
      "'hello'.upper()\n",
      "lsmagic\n",
      "enum = enumerate('hello')\n",
      "print(next(enum))\n",
      "print(next(enum))\n",
      "for item in enum:\n",
      "    print(item)\n",
      "a, b, c, d, e ='hello'\n",
      "a\n",
      "res1, res2 = map(lambda x: x * 5, '4 5'.split())\n",
      "res1, res2\n",
      "enum = enumerate('hello')\n",
      "next(enum)  # (0, 'h')\n",
      "next(enum)  # (1, 'e')\n",
      "for item in enum:\n",
      "    print(item)\n",
      "res1 = map(lambda x: x * 5, '4 5'.split())\n",
      "res1\n",
      "res1 = map(lambda x: x * 5, '4 5'.split())\n",
      "next(res1)\n",
      "res1, res2 = map(lambda x: x * 5, '4 5'.split())\n",
      "res1, res2\n",
      "def sum_exps(number):\n",
      "    return sum(x ** x for x in range(number))\n",
      "\n",
      "def sum_exps_naive(number):\n",
      "    summ = 0\n",
      "    for x in range(number):\n",
      "        poww = x\n",
      "        for y in range(x):\n",
      "            poww *= x\n",
      "        summ += poww\n",
      "    return summ\n",
      "who\n",
      "whos\n",
      "%time print(\"Hello World\")\n",
      "a = sum_exps_naive( 1000 )\n",
      "b = sum_exps( 1000 )\n",
      "%%time  # Здесь вся ячейка\n",
      "print(\"Hello World\")\n",
      "a = sum_exps_naive( 1000 )\n",
      "b = sum_exps( 1000 )\n",
      "# Здесь вся ячейка\n",
      "%%time  \n",
      "print(\"Hello World\")\n",
      "a = sum_exps_naive( 1000 )\n",
      "b = sum_exps( 1000 )\n",
      "%%time  \n",
      "print(\"Hello World\")\n",
      "a = sum_exps_naive( 1000 )\n",
      "b = sum_exps( 1000 )\n",
      "%time a = sum_exps_naive(1000)\n",
      "%time b = sum_exps(1000)\n",
      "%timeit sum_exps(1000)\n",
      "%timeit -n5 -r2 sum_exps_naive( 1000 )\n",
      "%timeit -n5 -r7 sum_exps_naive( 1000 )\n",
      "%prun sum_exps(1000)\n",
      "%%writefile file.py\n",
      "line = \"hello Jupyter\"\n",
      "print(line[::-1])\n",
      "%load file.py\n",
      "# %load file.py\n",
      "line = \"hello Jupyter\"\n",
      "print(line[::-1])\n",
      "lst1 = [3, 8, 7]\n",
      "lst2 = lst1[:]\n",
      "lst1 is lst2\n",
      "# Две ссылки на один и тот же объект\n",
      "tup1 = 45, 12\n",
      "tup2 = tup1[:]\n",
      "id(tup1) == id(tup2)\n",
      "# Две ссылки на один и тот же объект\n",
      "s = 'hello'\n",
      "s1 = s[:]\n",
      "id(s) == id(s1)  # s is s1\n",
      "tup1 + tup2\n",
      "'hello'[3:100]\n",
      "a = ([34, 45], [56, 12])\n",
      "a\n",
      "a[1].append(100)\n",
      "a\n",
      "save result.py 9-17\n",
      "!type file.py\n",
      "!type result.py\n",
      "%edit result.py\n",
      "ed result.py\n",
      "!type file.py\n",
      "!python file.py > out1.txt\n",
      "%load out1.txt\n",
      "line = \"hello Jupyter\"\n",
      "print(line[::-1])\n",
      "print(line.capitalize())\n",
      "%save file.py 56\n",
      "from IPython.display import display, Image, HTML, Math\n",
      "Image(url='https://python.org/images/python-logo.gif')\n",
      "import matplotlib.pyplot as plt\n",
      "import numpy as np\n",
      "from scipy import stats\n",
      "\n",
      "def f(mu):\n",
      "    X = stats.norm(loc=mu, scale=np.sqrt(mu))\n",
      "    N = stats.poisson(mu)\n",
      "    x = np.linspace(0, X.ppf(0.999))\n",
      "    n = np.arange(0, x[-1])\n",
      "\n",
      "    fig, ax = plt.subplots()\n",
      "    ax.plot(x, X.pdf(x), color='black', lw=2, label=f\"Normal($\\mu={mu}, \\sigma^2={mu})$\")\n",
      "    ax.bar(n, N.pmf(n), align='edge', label=r\"Poisson($\\lambda=%2d$)\" % mu)\n",
      "    ax.set_ylim(0, X.pdf(x).max() * 1.25)\n",
      "    ax.legend(loc=2, ncol=2)\n",
      "    plt.close(fig)\n",
      "    return fig\n",
      "\n",
      "    \n",
      "from ipywidgets import interact\n",
      "import ipywidgets as widgets\n",
      "\n",
      "interact(f, mu=widgets.FloatSlider(min=1.0, max=20.0, step=1.0));\n",
      "def a_divider(dividend, divisors):\n",
      "    l = []\n",
      "    for divisor in divisors:\n",
      "        l.append(dividend // divisor)\n",
      "    return l\n",
      "print(a_divider(500, [1,2,3,4,5]))\n",
      "%pdb \n",
      "print(a_divider(500, [1,2,3, 0 ,4,5]))\n",
      "# список объявленных переменных\n",
      "%who\n",
      "# показать историю команд\n",
      "%hist\n"
     ]
    }
   ],
   "source": [
    "# показать историю команд\n",
    "%hist"
   ]
  },
  {
   "cell_type": "code",
   "execution_count": 65,
   "metadata": {},
   "outputs": [
    {
     "data": {
      "text/plain": [
       "'C:\\\\Users\\\\Admin\\\\Documents\\\\Python4'"
      ]
     },
     "execution_count": 65,
     "metadata": {},
     "output_type": "execute_result"
    }
   ],
   "source": [
    "# текущий каталог можно узнать через команду %pwd\n",
    "x = %pwd\n",
    "x"
   ]
  },
  {
   "cell_type": "code",
   "execution_count": 66,
   "metadata": {},
   "outputs": [],
   "source": [
    "# удалить переменную и попытаться очистить все ссылки на объект во внутреннем пространстве имен Jupyter Notebook\n",
    "%xdel line"
   ]
  },
  {
   "cell_type": "code",
   "execution_count": 67,
   "metadata": {},
   "outputs": [
    {
     "name": "stdout",
     "output_type": "stream",
     "text": [
      "HTML\t Image\t Math\t a\t a_divider\t b\t c\t d\t display\t \n",
      "e\t enum\t f\t interact\t item\t lst1\t lst2\t mul_numbers\t np\t \n",
      "plt\t res1\t res2\t rnd\t s\t s1\t stats\t sum_exps\t sum_exps_naive\t \n",
      "tup1\t tup2\t widgets\t x\t \n"
     ]
    }
   ],
   "source": [
    "who"
   ]
  },
  {
   "cell_type": "code",
   "execution_count": 68,
   "metadata": {},
   "outputs": [
    {
     "name": "stdout",
     "output_type": "stream",
     "text": [
      "Once deleted, variables cannot be recovered. Proceed (y/[n])? y\n"
     ]
    }
   ],
   "source": [
    "# удалить все переменные\n",
    "%reset "
   ]
  },
  {
   "cell_type": "code",
   "execution_count": 69,
   "metadata": {
    "collapsed": true
   },
   "outputs": [
    {
     "data": {
      "text/plain": [
       "{'__name__': '__main__',\n",
       " '__builtin__': <module 'builtins' (built-in)>,\n",
       " '__builtins__': <module 'builtins' (built-in)>,\n",
       " '_ih': ['',\n",
       "  'b = [1, 2, 3]\\nb',\n",
       "  \"s1 = 'python'\\ns = 'Hello'\\nprint(s1)\\ns\",\n",
       "  \"s1 = 'python'\\ns = 'Hello'\\ns1\\ns\",\n",
       "  \"s1 = 'python'\\ns = 'Hello'\\nprint(s1)\\ns\",\n",
       "  'print(s); b',\n",
       "  'print(b)',\n",
       "  \"get_ipython().run_line_magic('pinfo', 'b')\",\n",
       "  \"'1' + str(1)\",\n",
       "  'def mul_numbers(a: float, b: float) -> float:\\n    \"\"\" Функция умножает два числа \"\"\"\\n    return a * b',\n",
       "  \"get_ipython().run_line_magic('pinfo', 'mul_numbers')\",\n",
       "  \"# два знака вопроса откроют окно с исходным кодом\\nget_ipython().run_line_magic('pinfo2', 'mul_numbers')\",\n",
       "  \"import random as rnd\\nget_ipython().run_line_magic('pinfo2', 'rnd.randrange')\",\n",
       "  'mul_numbers(2.0, 3.0)',\n",
       "  'mul_numbers(2, 3)',\n",
       "  \"mul_numbers('hello', 3)\",\n",
       "  \"mul_numbers('hello', 'h')\",\n",
       "  \"'hello'.upper()\",\n",
       "  \"get_ipython().run_line_magic('lsmagic', '')\",\n",
       "  \"enum = enumerate('hello')\\nprint(next(enum))\\nprint(next(enum))\\nfor item in enum:\\n    print(item)\",\n",
       "  \"a, b, c, d, e ='hello'\\na\",\n",
       "  \"res1, res2 = map(lambda x: x * 5, '4 5'.split())\\nres1, res2\",\n",
       "  \"enum = enumerate('hello')\\nnext(enum)  # (0, 'h')\\nnext(enum)  # (1, 'e')\\nfor item in enum:\\n    print(item)\",\n",
       "  \"res1 = map(lambda x: x * 5, '4 5'.split())\\nres1\",\n",
       "  \"res1 = map(lambda x: x * 5, '4 5'.split())\\nnext(res1)\",\n",
       "  \"res1, res2 = map(lambda x: x * 5, '4 5'.split())\\nres1, res2\",\n",
       "  'def sum_exps(number):\\n    return sum(x ** x for x in range(number))\\n\\ndef sum_exps_naive(number):\\n    summ = 0\\n    for x in range(number):\\n        poww = x\\n        for y in range(x):\\n            poww *= x\\n        summ += poww\\n    return summ',\n",
       "  \"get_ipython().run_line_magic('who', '')\",\n",
       "  \"get_ipython().run_line_magic('whos', '')\",\n",
       "  'get_ipython().run_line_magic(\\'time\\', \\'print(\"Hello World\")\\')\\na = sum_exps_naive( 1000 )\\nb = sum_exps( 1000 )',\n",
       "  'get_ipython().run_cell_magic(\\'time\\', \\' # Здесь вся ячейка\\', \\'print(\"Hello World\")\\\\na = sum_exps_naive( 1000 )\\\\nb = sum_exps( 1000 )\\\\n\\')',\n",
       "  '# Здесь вся ячейка\\nget_ipython().run_line_magic(\\'%time\\', \\'\\')\\nprint(\"Hello World\")\\na = sum_exps_naive( 1000 )\\nb = sum_exps( 1000 )',\n",
       "  'get_ipython().run_cell_magic(\\'time\\', \\'\\', \\'print(\"Hello World\")\\\\na = sum_exps_naive( 1000 )\\\\nb = sum_exps( 1000 )\\\\n\\')',\n",
       "  \"get_ipython().run_line_magic('time', 'a = sum_exps_naive(1000)')\\nget_ipython().run_line_magic('time', 'b = sum_exps(1000)')\",\n",
       "  \"get_ipython().run_line_magic('timeit', 'sum_exps(1000)')\",\n",
       "  \"get_ipython().run_line_magic('timeit', '-n5 -r2 sum_exps_naive( 1000 )')\",\n",
       "  \"get_ipython().run_line_magic('timeit', '-n5 -r7 sum_exps_naive( 1000 )')\",\n",
       "  \"get_ipython().run_line_magic('prun', 'sum_exps(1000)')\",\n",
       "  'get_ipython().run_cell_magic(\\'writefile\\', \\'file.py\\', \\'line = \"hello Jupyter\"\\\\nprint(line[::-1])\\\\n\\')',\n",
       "  \"get_ipython().run_line_magic('load', 'file.py')\",\n",
       "  '# %load file.py\\nline = \"hello Jupyter\"\\nprint(line[::-1])',\n",
       "  'lst1 = [3, 8, 7]\\nlst2 = lst1[:]\\nlst1 is lst2',\n",
       "  '# Две ссылки на один и тот же объект\\ntup1 = 45, 12\\ntup2 = tup1[:]\\nid(tup1) == id(tup2)',\n",
       "  \"# Две ссылки на один и тот же объект\\ns = 'hello'\\ns1 = s[:]\\nid(s) == id(s1)  # s is s1\",\n",
       "  'tup1 + tup2',\n",
       "  \"'hello'[3:100]\",\n",
       "  'a = ([34, 45], [56, 12])\\na',\n",
       "  'a[1].append(100)\\na',\n",
       "  \"get_ipython().run_line_magic('save', 'result.py 9-17')\",\n",
       "  \"get_ipython().system('type file.py')\",\n",
       "  \"get_ipython().system('type result.py')\",\n",
       "  \"get_ipython().run_line_magic('edit', 'result.py')\",\n",
       "  \"get_ipython().run_line_magic('ed', 'result.py')\",\n",
       "  \"get_ipython().system('type file.py')\",\n",
       "  \"get_ipython().system('python file.py > out1.txt')\",\n",
       "  \"get_ipython().run_line_magic('load', 'out1.txt')\",\n",
       "  'line = \"hello Jupyter\"\\nprint(line[::-1])\\nprint(line.capitalize())',\n",
       "  \"get_ipython().run_line_magic('save', 'file.py 56')\",\n",
       "  \"from IPython.display import display, Image, HTML, Math\\nImage(url='https://python.org/images/python-logo.gif')\",\n",
       "  'import matplotlib.pyplot as plt\\nimport numpy as np\\nfrom scipy import stats\\n\\ndef f(mu):\\n    X = stats.norm(loc=mu, scale=np.sqrt(mu))\\n    N = stats.poisson(mu)\\n    x = np.linspace(0, X.ppf(0.999))\\n    n = np.arange(0, x[-1])\\n\\n    fig, ax = plt.subplots()\\n    ax.plot(x, X.pdf(x), color=\\'black\\', lw=2, label=f\"Normal($\\\\mu={mu}, \\\\sigma^2={mu})$\")\\n    ax.bar(n, N.pmf(n), align=\\'edge\\', label=r\"Poisson($\\\\lambda=%2d$)\" % mu)\\n    ax.set_ylim(0, X.pdf(x).max() * 1.25)\\n    ax.legend(loc=2, ncol=2)\\n    plt.close(fig)\\n    return fig\\n\\n    \\nfrom ipywidgets import interact\\nimport ipywidgets as widgets\\n\\ninteract(f, mu=widgets.FloatSlider(min=1.0, max=20.0, step=1.0));',\n",
       "  'def a_divider(dividend, divisors):\\n    l = []\\n    for divisor in divisors:\\n        l.append(dividend // divisor)\\n    return l    ',\n",
       "  'print(a_divider(500, [1,2,3,4,5]))',\n",
       "  \"get_ipython().run_line_magic('pdb', '')\\nprint(a_divider(500, [1,2,3, 0 ,4,5]))\",\n",
       "  \"# список объявленных переменных\\nget_ipython().run_line_magic('who', '')\",\n",
       "  \"# показать историю команд\\nget_ipython().run_line_magic('hist', '')\",\n",
       "  \"# текущий каталог можно узнать через команду %pwd\\nx = get_ipython().run_line_magic('pwd', '')\\nx\",\n",
       "  \"# удалить переменную и попытаться очистить все ссылки на объект во внутреннем пространстве имен Jupyter Notebook\\nget_ipython().run_line_magic('xdel', 'line')\",\n",
       "  \"get_ipython().run_line_magic('who', '')\",\n",
       "  \"# удалить все переменные\\nget_ipython().run_line_magic('reset', '')\",\n",
       "  'locals()'],\n",
       " '_oh': {},\n",
       " '_dh': ['C:\\\\Users\\\\Admin\\\\Documents\\\\Python4'],\n",
       " 'In': ['',\n",
       "  'b = [1, 2, 3]\\nb',\n",
       "  \"s1 = 'python'\\ns = 'Hello'\\nprint(s1)\\ns\",\n",
       "  \"s1 = 'python'\\ns = 'Hello'\\ns1\\ns\",\n",
       "  \"s1 = 'python'\\ns = 'Hello'\\nprint(s1)\\ns\",\n",
       "  'print(s); b',\n",
       "  'print(b)',\n",
       "  \"get_ipython().run_line_magic('pinfo', 'b')\",\n",
       "  \"'1' + str(1)\",\n",
       "  'def mul_numbers(a: float, b: float) -> float:\\n    \"\"\" Функция умножает два числа \"\"\"\\n    return a * b',\n",
       "  \"get_ipython().run_line_magic('pinfo', 'mul_numbers')\",\n",
       "  \"# два знака вопроса откроют окно с исходным кодом\\nget_ipython().run_line_magic('pinfo2', 'mul_numbers')\",\n",
       "  \"import random as rnd\\nget_ipython().run_line_magic('pinfo2', 'rnd.randrange')\",\n",
       "  'mul_numbers(2.0, 3.0)',\n",
       "  'mul_numbers(2, 3)',\n",
       "  \"mul_numbers('hello', 3)\",\n",
       "  \"mul_numbers('hello', 'h')\",\n",
       "  \"'hello'.upper()\",\n",
       "  \"get_ipython().run_line_magic('lsmagic', '')\",\n",
       "  \"enum = enumerate('hello')\\nprint(next(enum))\\nprint(next(enum))\\nfor item in enum:\\n    print(item)\",\n",
       "  \"a, b, c, d, e ='hello'\\na\",\n",
       "  \"res1, res2 = map(lambda x: x * 5, '4 5'.split())\\nres1, res2\",\n",
       "  \"enum = enumerate('hello')\\nnext(enum)  # (0, 'h')\\nnext(enum)  # (1, 'e')\\nfor item in enum:\\n    print(item)\",\n",
       "  \"res1 = map(lambda x: x * 5, '4 5'.split())\\nres1\",\n",
       "  \"res1 = map(lambda x: x * 5, '4 5'.split())\\nnext(res1)\",\n",
       "  \"res1, res2 = map(lambda x: x * 5, '4 5'.split())\\nres1, res2\",\n",
       "  'def sum_exps(number):\\n    return sum(x ** x for x in range(number))\\n\\ndef sum_exps_naive(number):\\n    summ = 0\\n    for x in range(number):\\n        poww = x\\n        for y in range(x):\\n            poww *= x\\n        summ += poww\\n    return summ',\n",
       "  \"get_ipython().run_line_magic('who', '')\",\n",
       "  \"get_ipython().run_line_magic('whos', '')\",\n",
       "  'get_ipython().run_line_magic(\\'time\\', \\'print(\"Hello World\")\\')\\na = sum_exps_naive( 1000 )\\nb = sum_exps( 1000 )',\n",
       "  'get_ipython().run_cell_magic(\\'time\\', \\' # Здесь вся ячейка\\', \\'print(\"Hello World\")\\\\na = sum_exps_naive( 1000 )\\\\nb = sum_exps( 1000 )\\\\n\\')',\n",
       "  '# Здесь вся ячейка\\nget_ipython().run_line_magic(\\'%time\\', \\'\\')\\nprint(\"Hello World\")\\na = sum_exps_naive( 1000 )\\nb = sum_exps( 1000 )',\n",
       "  'get_ipython().run_cell_magic(\\'time\\', \\'\\', \\'print(\"Hello World\")\\\\na = sum_exps_naive( 1000 )\\\\nb = sum_exps( 1000 )\\\\n\\')',\n",
       "  \"get_ipython().run_line_magic('time', 'a = sum_exps_naive(1000)')\\nget_ipython().run_line_magic('time', 'b = sum_exps(1000)')\",\n",
       "  \"get_ipython().run_line_magic('timeit', 'sum_exps(1000)')\",\n",
       "  \"get_ipython().run_line_magic('timeit', '-n5 -r2 sum_exps_naive( 1000 )')\",\n",
       "  \"get_ipython().run_line_magic('timeit', '-n5 -r7 sum_exps_naive( 1000 )')\",\n",
       "  \"get_ipython().run_line_magic('prun', 'sum_exps(1000)')\",\n",
       "  'get_ipython().run_cell_magic(\\'writefile\\', \\'file.py\\', \\'line = \"hello Jupyter\"\\\\nprint(line[::-1])\\\\n\\')',\n",
       "  \"get_ipython().run_line_magic('load', 'file.py')\",\n",
       "  '# %load file.py\\nline = \"hello Jupyter\"\\nprint(line[::-1])',\n",
       "  'lst1 = [3, 8, 7]\\nlst2 = lst1[:]\\nlst1 is lst2',\n",
       "  '# Две ссылки на один и тот же объект\\ntup1 = 45, 12\\ntup2 = tup1[:]\\nid(tup1) == id(tup2)',\n",
       "  \"# Две ссылки на один и тот же объект\\ns = 'hello'\\ns1 = s[:]\\nid(s) == id(s1)  # s is s1\",\n",
       "  'tup1 + tup2',\n",
       "  \"'hello'[3:100]\",\n",
       "  'a = ([34, 45], [56, 12])\\na',\n",
       "  'a[1].append(100)\\na',\n",
       "  \"get_ipython().run_line_magic('save', 'result.py 9-17')\",\n",
       "  \"get_ipython().system('type file.py')\",\n",
       "  \"get_ipython().system('type result.py')\",\n",
       "  \"get_ipython().run_line_magic('edit', 'result.py')\",\n",
       "  \"get_ipython().run_line_magic('ed', 'result.py')\",\n",
       "  \"get_ipython().system('type file.py')\",\n",
       "  \"get_ipython().system('python file.py > out1.txt')\",\n",
       "  \"get_ipython().run_line_magic('load', 'out1.txt')\",\n",
       "  'line = \"hello Jupyter\"\\nprint(line[::-1])\\nprint(line.capitalize())',\n",
       "  \"get_ipython().run_line_magic('save', 'file.py 56')\",\n",
       "  \"from IPython.display import display, Image, HTML, Math\\nImage(url='https://python.org/images/python-logo.gif')\",\n",
       "  'import matplotlib.pyplot as plt\\nimport numpy as np\\nfrom scipy import stats\\n\\ndef f(mu):\\n    X = stats.norm(loc=mu, scale=np.sqrt(mu))\\n    N = stats.poisson(mu)\\n    x = np.linspace(0, X.ppf(0.999))\\n    n = np.arange(0, x[-1])\\n\\n    fig, ax = plt.subplots()\\n    ax.plot(x, X.pdf(x), color=\\'black\\', lw=2, label=f\"Normal($\\\\mu={mu}, \\\\sigma^2={mu})$\")\\n    ax.bar(n, N.pmf(n), align=\\'edge\\', label=r\"Poisson($\\\\lambda=%2d$)\" % mu)\\n    ax.set_ylim(0, X.pdf(x).max() * 1.25)\\n    ax.legend(loc=2, ncol=2)\\n    plt.close(fig)\\n    return fig\\n\\n    \\nfrom ipywidgets import interact\\nimport ipywidgets as widgets\\n\\ninteract(f, mu=widgets.FloatSlider(min=1.0, max=20.0, step=1.0));',\n",
       "  'def a_divider(dividend, divisors):\\n    l = []\\n    for divisor in divisors:\\n        l.append(dividend // divisor)\\n    return l    ',\n",
       "  'print(a_divider(500, [1,2,3,4,5]))',\n",
       "  \"get_ipython().run_line_magic('pdb', '')\\nprint(a_divider(500, [1,2,3, 0 ,4,5]))\",\n",
       "  \"# список объявленных переменных\\nget_ipython().run_line_magic('who', '')\",\n",
       "  \"# показать историю команд\\nget_ipython().run_line_magic('hist', '')\",\n",
       "  \"# текущий каталог можно узнать через команду %pwd\\nx = get_ipython().run_line_magic('pwd', '')\\nx\",\n",
       "  \"# удалить переменную и попытаться очистить все ссылки на объект во внутреннем пространстве имен Jupyter Notebook\\nget_ipython().run_line_magic('xdel', 'line')\",\n",
       "  \"get_ipython().run_line_magic('who', '')\",\n",
       "  \"# удалить все переменные\\nget_ipython().run_line_magic('reset', '')\",\n",
       "  'locals()'],\n",
       " 'Out': {},\n",
       " 'get_ipython': <bound method InteractiveShell.get_ipython of <ipykernel.zmqshell.ZMQInteractiveShell object at 0x00000161F57134F0>>,\n",
       " 'exit': <IPython.core.autocall.ZMQExitAutocall at 0x161f5773730>,\n",
       " 'quit': <IPython.core.autocall.ZMQExitAutocall at 0x161f5773730>,\n",
       " '_i': '# удалить все переменные\\n%reset ',\n",
       " '_ii': 'who',\n",
       " '_iii': '# удалить переменную и попытаться очистить все ссылки на объект во внутреннем пространстве имен Jupyter Notebook\\n%xdel line',\n",
       " '_i69': 'locals()'}"
      ]
     },
     "execution_count": 69,
     "metadata": {},
     "output_type": "execute_result"
    }
   ],
   "source": [
    "locals()"
   ]
  },
  {
   "cell_type": "code",
   "execution_count": 70,
   "metadata": {},
   "outputs": [
    {
     "name": "stdout",
     "output_type": "stream",
     "text": [
      "Interactive namespace is empty.\n"
     ]
    }
   ],
   "source": [
    "whos"
   ]
  },
  {
   "cell_type": "code",
   "execution_count": 71,
   "metadata": {},
   "outputs": [
    {
     "data": {
      "text/plain": [
       "4"
      ]
     },
     "execution_count": 71,
     "metadata": {},
     "output_type": "execute_result"
    }
   ],
   "source": [
    "a = 4; a"
   ]
  },
  {
   "cell_type": "code",
   "execution_count": 72,
   "metadata": {},
   "outputs": [
    {
     "data": {
      "text/plain": [
       "'hello'"
      ]
     },
     "execution_count": 72,
     "metadata": {},
     "output_type": "execute_result"
    }
   ],
   "source": [
    "b = 'hello'; b"
   ]
  },
  {
   "cell_type": "code",
   "execution_count": 73,
   "metadata": {},
   "outputs": [
    {
     "data": {
      "text/plain": [
       "True"
      ]
     },
     "execution_count": 73,
     "metadata": {},
     "output_type": "execute_result"
    }
   ],
   "source": [
    "c = True; c"
   ]
  },
  {
   "cell_type": "code",
   "execution_count": 74,
   "metadata": {},
   "outputs": [
    {
     "data": {
      "text/plain": [
       "True"
      ]
     },
     "execution_count": 74,
     "metadata": {},
     "output_type": "execute_result"
    }
   ],
   "source": [
    "_ # _ - последний вывыод, __ - предпоследний, ___ - предпредпоследний"
   ]
  },
  {
   "cell_type": "code",
   "execution_count": 88,
   "metadata": {},
   "outputs": [
    {
     "data": {
      "text/plain": [
       "6.6"
      ]
     },
     "execution_count": 88,
     "metadata": {},
     "output_type": "execute_result"
    }
   ],
   "source": [
    "1 == True  # Out: True\n",
    "0 == False # Out: True\n",
    "True + True + True  # Out: 3\n",
    "7.6 - True # 6.6"
   ]
  },
  {
   "cell_type": "code",
   "execution_count": 87,
   "metadata": {},
   "outputs": [
    {
     "name": "stdout",
     "output_type": "stream",
     "text": [
      "Enter a, b: 8 2\n",
      "4\n"
     ]
    }
   ],
   "source": [
    "\"\"\"\n",
    "Введены два натуральных числа.\n",
    "Округлить в большую сторону результат деления, если числа не делятся нацело.\n",
    "Про if, math, round ничего не знаем\n",
    "int, float, bool, str +, -, *, /, %, // - это можно\n",
    "\n",
    "Пример 1:\n",
    "In:\n",
    "    a = 7\n",
    "    b = 4\n",
    "Out:\n",
    "    result: 2\n",
    "\n",
    "Пример 2:\n",
    "In:\n",
    "    a = 16\n",
    "    b = 4\n",
    "Out:\n",
    "    result: 4\n",
    "\"\"\"\n",
    "a, b = [int(i) for i in input('Enter a, b: ').split()]\n",
    "result =a // b  + bool(a % b)\n",
    "print(result)"
   ]
  },
  {
   "cell_type": "code",
   "execution_count": 83,
   "metadata": {},
   "outputs": [],
   "source": [
    "import math\n",
    "\n",
    "def ceiler():\n",
    "    prav = neprav = 0\n",
    "    \n",
    "    for a in range(1, 100):\n",
    "        for b in range(1, 100):\n",
    "            if (a//b + (a//b != a/b)) == math.ceil(a/b):\n",
    "                prav += 1\n",
    "            else:\n",
    "                neprav += 1\n",
    "    return (prav,neprav)\n"
   ]
  },
  {
   "cell_type": "code",
   "execution_count": 84,
   "metadata": {},
   "outputs": [
    {
     "data": {
      "text/plain": [
       "(9801, 0)"
      ]
     },
     "execution_count": 84,
     "metadata": {},
     "output_type": "execute_result"
    }
   ],
   "source": [
    "ceiler()"
   ]
  },
  {
   "cell_type": "markdown",
   "metadata": {},
   "source": [
    "#### Вариант 1"
   ]
  },
  {
   "cell_type": "code",
   "execution_count": 89,
   "metadata": {},
   "outputs": [
    {
     "name": "stdout",
     "output_type": "stream",
     "text": [
      "Writing m1_t1.py\n"
     ]
    }
   ],
   "source": [
    "%%writefile m1_t1.py\n",
    "def main(a: int=7, b: int=4) -> int:\n",
    "    return (a + b - 1) // b\n"
   ]
  },
  {
   "cell_type": "code",
   "execution_count": 98,
   "metadata": {},
   "outputs": [
    {
     "name": "stdout",
     "output_type": "stream",
     "text": [
      "1\n",
      "2\n"
     ]
    }
   ],
   "source": [
    "# %load m1_t1.py\n",
    "def main(a: int=7, b: int=4) -> int:\n",
    "    return (a + b - 1) // b\n",
    "\n",
    "print(main(4, 4))\n",
    "print(main())"
   ]
  },
  {
   "cell_type": "markdown",
   "metadata": {},
   "source": [
    "#### Вариант 2"
   ]
  },
  {
   "cell_type": "code",
   "execution_count": null,
   "metadata": {},
   "outputs": [],
   "source": [
    "def func(a, b) -> int:\n",
    "    return a // b + bool(a % b)"
   ]
  },
  {
   "cell_type": "markdown",
   "metadata": {},
   "source": [
    "#### Вариант 3"
   ]
  },
  {
   "cell_type": "code",
   "execution_count": 95,
   "metadata": {},
   "outputs": [],
   "source": [
    "def f(a, b) -> int:\n",
    "    return (-1) * a // b * (-1)"
   ]
  },
  {
   "cell_type": "code",
   "execution_count": 97,
   "metadata": {},
   "outputs": [
    {
     "name": "stdout",
     "output_type": "stream",
     "text": [
      "2\n"
     ]
    }
   ],
   "source": [
    "print(f(8, 4))"
   ]
  },
  {
   "cell_type": "code",
   "execution_count": 106,
   "metadata": {},
   "outputs": [
    {
     "data": {
      "text/plain": [
       "True"
      ]
     },
     "execution_count": 106,
     "metadata": {},
     "output_type": "execute_result"
    }
   ],
   "source": [
    "bool(0.0000000000000000000000000000000000000000000000000000000000000000000000000000000000000000000001)"
   ]
  },
  {
   "cell_type": "code",
   "execution_count": 104,
   "metadata": {},
   "outputs": [
    {
     "data": {
      "text/plain": [
       "3"
      ]
     },
     "execution_count": 104,
     "metadata": {},
     "output_type": "execute_result"
    }
   ],
   "source": [
    "-5 % 4"
   ]
  },
  {
   "cell_type": "code",
   "execution_count": 99,
   "metadata": {},
   "outputs": [
    {
     "data": {
      "text/plain": [
       "-2"
      ]
     },
     "execution_count": 99,
     "metadata": {},
     "output_type": "execute_result"
    }
   ],
   "source": [
    "-7 // 4"
   ]
  },
  {
   "cell_type": "code",
   "execution_count": 100,
   "metadata": {},
   "outputs": [
    {
     "data": {
      "text/plain": [
       "1"
      ]
     },
     "execution_count": 100,
     "metadata": {},
     "output_type": "execute_result"
    }
   ],
   "source": [
    "-7 % 4"
   ]
  },
  {
   "cell_type": "code",
   "execution_count": 102,
   "metadata": {},
   "outputs": [
    {
     "data": {
      "text/plain": [
       "True"
      ]
     },
     "execution_count": 102,
     "metadata": {},
     "output_type": "execute_result"
    }
   ],
   "source": [
    "-7 == 4 * (-2) + 1"
   ]
  },
  {
   "cell_type": "markdown",
   "metadata": {},
   "source": [
    "### Подключение внешних модулей\n",
    "\n",
    "1. Если ```import module``` не может найти нужный модуль, используйте ```pip install ...``` или ```conda install ...```__ВНЕ ТЕТРАДИ__, то есть в командной строке.\n",
    "2. Запуск ```!pip install``` установит запрашиваемый модуль только для текущего сеанса.\n",
    "3. Если вы разрабатываете свой модуль во внешнем редакторе, а отлаживаете его в Jupyter, включите автообновление модуля по мере его сохранения:\n",
    "```python\n",
    "%load_ext autoreload\n",
    "%autoreload 2\n",
    "```"
   ]
  },
  {
   "cell_type": "code",
   "execution_count": 107,
   "metadata": {},
   "outputs": [],
   "source": [
    "%load_ext autoreload\n",
    "%autoreload 2"
   ]
  },
  {
   "cell_type": "code",
   "execution_count": 108,
   "metadata": {},
   "outputs": [],
   "source": [
    "%autoreload?"
   ]
  },
  {
   "cell_type": "code",
   "execution_count": null,
   "metadata": {},
   "outputs": [],
   "source": [
    "%reset"
   ]
  },
  {
   "cell_type": "code",
   "execution_count": 109,
   "metadata": {},
   "outputs": [
    {
     "name": "stdout",
     "output_type": "stream",
     "text": [
      "a\t b\t c\t ceiler\t f\t main\t math\t result\t \n"
     ]
    }
   ],
   "source": [
    "who"
   ]
  },
  {
   "cell_type": "code",
   "execution_count": 110,
   "metadata": {},
   "outputs": [],
   "source": [
    "import sys\n",
    "sys.path.append(\"c:\\\\Course\")  # Добавляем нужную папку в системный список папок"
   ]
  },
  {
   "cell_type": "code",
   "execution_count": 111,
   "metadata": {
    "collapsed": true
   },
   "outputs": [
    {
     "data": {
      "text/plain": [
       "['C:\\\\Users\\\\Admin\\\\Documents\\\\Python4',\n",
       " 'C:\\\\Users\\\\Admin\\\\anaconda3\\\\python39.zip',\n",
       " 'C:\\\\Users\\\\Admin\\\\anaconda3\\\\DLLs',\n",
       " 'C:\\\\Users\\\\Admin\\\\anaconda3\\\\lib',\n",
       " 'C:\\\\Users\\\\Admin\\\\anaconda3',\n",
       " '',\n",
       " 'C:\\\\Users\\\\Admin\\\\AppData\\\\Roaming\\\\Python\\\\Python39\\\\site-packages',\n",
       " 'C:\\\\Users\\\\Admin\\\\anaconda3\\\\lib\\\\site-packages',\n",
       " 'C:\\\\Users\\\\Admin\\\\anaconda3\\\\lib\\\\site-packages\\\\locket-0.2.1-py3.9.egg',\n",
       " 'C:\\\\Users\\\\Admin\\\\anaconda3\\\\lib\\\\site-packages\\\\win32',\n",
       " 'C:\\\\Users\\\\Admin\\\\anaconda3\\\\lib\\\\site-packages\\\\win32\\\\lib',\n",
       " 'C:\\\\Users\\\\Admin\\\\anaconda3\\\\lib\\\\site-packages\\\\Pythonwin',\n",
       " 'C:\\\\Users\\\\Admin\\\\anaconda3\\\\lib\\\\site-packages\\\\IPython\\\\extensions',\n",
       " 'C:\\\\Users\\\\Admin\\\\.ipython',\n",
       " 'c:\\\\Course']"
      ]
     },
     "execution_count": 111,
     "metadata": {},
     "output_type": "execute_result"
    }
   ],
   "source": [
    "sys.path"
   ]
  },
  {
   "cell_type": "code",
   "execution_count": 112,
   "metadata": {},
   "outputs": [],
   "source": [
    "import m1_t1"
   ]
  },
  {
   "cell_type": "code",
   "execution_count": 115,
   "metadata": {},
   "outputs": [
    {
     "data": {
      "text/plain": [
       "6"
      ]
     },
     "execution_count": 115,
     "metadata": {},
     "output_type": "execute_result"
    }
   ],
   "source": [
    "m1_t1.main(12, 2)"
   ]
  },
  {
   "cell_type": "markdown",
   "metadata": {},
   "source": [
    "## Язык Markdown\n",
    "\n",
    "Чтобы редактировать содержимое Markdown-клетки, дважды кликните по ней."
   ]
  },
  {
   "cell_type": "markdown",
   "metadata": {},
   "source": [
    "# Заголовок 1\n",
    "\n",
    "## Заголовок 2\n",
    "\n",
    "### _Заголовок 3_\n",
    "\n",
    "Quick brown fox __jumped__ _over_ lazy dog. Quick brown fox jumped over lazy dog.Quick brown fox jumped over lazy dog.Quick brown fox jumped over lazy dog.Quick brown fox jumped over lazy dog. Quick brown fox jumped over lazy dog. Quick brown fox jumped over lazy dog.  \n",
    "Quick brown fox jumped over lazy dog.\n",
    "\n",
    "**Quick** brown fox jumped over lazy https://www.dogs.com/. Quick brown fox jumped over lazy dog. Quick brown fox jumped over lazy dog. Quick brown fox jumped over lazy dog.\n",
    "\n",
    "1. Quick brown fox jumped over lazy dog. Quick brown fox jumped over lazy dog. Quick brown fox jumped over lazy dog.\n",
    "2. Quick brown fox jumped over lazy dog. Quick brown fox jumped over lazy dog.\n",
    "3. Quick brown fox jumped over lazy dog. Quick brown fox jumped over lazy dog.\n",
    "\n",
    "$\\begin{cases}\n",
    "2 + t^1*2 = 0 + t_2*(-1) \\\\\n",
    "3 + t_1*1 = 1 + t_2*1\n",
    "\\end{cases}\n",
    "$\n",
    "\n",
    "- first\n",
    "- second\n",
    "- third\n"
   ]
  },
  {
   "cell_type": "markdown",
   "metadata": {},
   "source": []
  }
 ],
 "metadata": {
  "kernelspec": {
   "display_name": "Python 3 (ipykernel)",
   "language": "python",
   "name": "python3"
  },
  "language_info": {
   "codemirror_mode": {
    "name": "ipython",
    "version": 3
   },
   "file_extension": ".py",
   "mimetype": "text/x-python",
   "name": "python",
   "nbconvert_exporter": "python",
   "pygments_lexer": "ipython3",
   "version": "3.9.7"
  }
 },
 "nbformat": 4,
 "nbformat_minor": 4
}
